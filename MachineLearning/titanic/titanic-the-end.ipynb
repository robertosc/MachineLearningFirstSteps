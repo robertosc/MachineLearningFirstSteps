{
 "cells": [
  {
   "cell_type": "code",
   "execution_count": 1,
   "id": "6d17ca37",
   "metadata": {
    "_cell_guid": "b1076dfc-b9ad-4769-8c92-a6c4dae69d19",
    "_uuid": "8f2839f25d086af736a60e9eeb907d3b93b6e0e5",
    "execution": {
     "iopub.execute_input": "2022-01-29T16:50:39.481904Z",
     "iopub.status.busy": "2022-01-29T16:50:39.480573Z",
     "iopub.status.idle": "2022-01-29T16:50:41.131915Z",
     "shell.execute_reply": "2022-01-29T16:50:41.130884Z",
     "shell.execute_reply.started": "2022-01-29T16:31:05.566011Z"
    },
    "papermill": {
     "duration": 1.696527,
     "end_time": "2022-01-29T16:50:41.132136",
     "exception": false,
     "start_time": "2022-01-29T16:50:39.435609",
     "status": "completed"
    },
    "tags": []
   },
   "outputs": [
    {
     "name": "stdout",
     "output_type": "stream",
     "text": [
      "/kaggle/input/titanic/train.csv\n",
      "/kaggle/input/titanic/test.csv\n",
      "/kaggle/input/titanic/gender_submission.csv\n"
     ]
    }
   ],
   "source": [
    "# This Python 3 environment comes with many helpful analytics libraries installed\n",
    "# It is defined by the kaggle/python Docker image: https://github.com/kaggle/docker-python\n",
    "# For example, here's several helpful packages to load\n",
    "\n",
    "import numpy as np # linear algebra\n",
    "import pandas as pd # data processing, CSV file I/O (e.g. pd.read_csv)\n",
    "import matplotlib.pyplot as plt\n",
    "import seaborn as sns\n",
    "from sklearn.ensemble import RandomForestClassifier\n",
    "from sklearn.linear_model import LogisticRegression\n",
    "from sklearn.metrics import accuracy_score,confusion_matrix\n",
    "from sklearn.model_selection import cross_val_score, GridSearchCV\n",
    "from sklearn.preprocessing import LabelEncoder\n",
    "import warnings\n",
    "warnings.filterwarnings('ignore')\n",
    "# Input data files are available in the read-only \"../input/\" directory\n",
    "# For example, running this (by clicking run or pressing Shift+Enter) will list all files under the input directory\n",
    "\n",
    "import os\n",
    "for dirname, _, filenames in os.walk('/kaggle/input'):\n",
    "    for filename in filenames:\n",
    "        print(os.path.join(dirname, filename))\n",
    "\n",
    "# You can write up to 20GB to the current directory (/kaggle/working/) that gets preserved as output when you create a version using \"Save & Run All\" \n",
    "# You can also write temporary files to /kaggle/temp/, but they won't be saved outside of the current session"
   ]
  },
  {
   "cell_type": "markdown",
   "id": "649f453a",
   "metadata": {
    "papermill": {
     "duration": 0.041497,
     "end_time": "2022-01-29T16:50:41.214821",
     "exception": false,
     "start_time": "2022-01-29T16:50:41.173324",
     "status": "completed"
    },
    "tags": []
   },
   "source": [
    "# Reading Data"
   ]
  },
  {
   "cell_type": "code",
   "execution_count": 2,
   "id": "0e22dd42",
   "metadata": {
    "execution": {
     "iopub.execute_input": "2022-01-29T16:50:41.299644Z",
     "iopub.status.busy": "2022-01-29T16:50:41.298828Z",
     "iopub.status.idle": "2022-01-29T16:50:41.328636Z",
     "shell.execute_reply": "2022-01-29T16:50:41.327996Z",
     "shell.execute_reply.started": "2022-01-29T16:31:05.581058Z"
    },
    "papermill": {
     "duration": 0.074992,
     "end_time": "2022-01-29T16:50:41.328854",
     "exception": false,
     "start_time": "2022-01-29T16:50:41.253862",
     "status": "completed"
    },
    "tags": []
   },
   "outputs": [],
   "source": [
    "train_df = pd.read_csv('/kaggle/input/titanic/train.csv')\n",
    "test_df = pd.read_csv('/kaggle/input/titanic/test.csv')"
   ]
  },
  {
   "cell_type": "code",
   "execution_count": 3,
   "id": "9446faa1",
   "metadata": {
    "execution": {
     "iopub.execute_input": "2022-01-29T16:50:41.425009Z",
     "iopub.status.busy": "2022-01-29T16:50:41.424240Z",
     "iopub.status.idle": "2022-01-29T16:50:41.451386Z",
     "shell.execute_reply": "2022-01-29T16:50:41.451935Z",
     "shell.execute_reply.started": "2022-01-29T16:31:05.610640Z"
    },
    "papermill": {
     "duration": 0.083061,
     "end_time": "2022-01-29T16:50:41.452155",
     "exception": false,
     "start_time": "2022-01-29T16:50:41.369094",
     "status": "completed"
    },
    "tags": []
   },
   "outputs": [
    {
     "name": "stdout",
     "output_type": "stream",
     "text": [
      "<class 'pandas.core.frame.DataFrame'>\n",
      "RangeIndex: 1309 entries, 0 to 1308\n",
      "Data columns (total 12 columns):\n",
      " #   Column       Non-Null Count  Dtype  \n",
      "---  ------       --------------  -----  \n",
      " 0   Age          1046 non-null   float64\n",
      " 1   Cabin        295 non-null    object \n",
      " 2   Embarked     1307 non-null   object \n",
      " 3   Fare         1308 non-null   float64\n",
      " 4   Name         1309 non-null   object \n",
      " 5   Parch        1309 non-null   int64  \n",
      " 6   PassengerId  1309 non-null   int64  \n",
      " 7   Pclass       1309 non-null   int64  \n",
      " 8   Sex          1309 non-null   object \n",
      " 9   SibSp        1309 non-null   int64  \n",
      " 10  Survived     891 non-null    float64\n",
      " 11  Ticket       1309 non-null   object \n",
      "dtypes: float64(3), int64(4), object(5)\n",
      "memory usage: 122.8+ KB\n"
     ]
    }
   ],
   "source": [
    "def combine_data(train,test):\n",
    "    return pd.concat([train,test],sort=True).reset_index(drop=True)\n",
    "\n",
    "def divide_data(data):\n",
    "    return data.loc[:890],data.loc[891:].drop(['Survived'],axis=1)\n",
    "\n",
    "all_data = combine_data(train_df,test_df)\n",
    "all_data.info()"
   ]
  },
  {
   "cell_type": "markdown",
   "id": "64fbbf7a",
   "metadata": {
    "papermill": {
     "duration": 0.038999,
     "end_time": "2022-01-29T16:50:41.530584",
     "exception": false,
     "start_time": "2022-01-29T16:50:41.491585",
     "status": "completed"
    },
    "tags": []
   },
   "source": [
    "# Data Exploration"
   ]
  },
  {
   "cell_type": "markdown",
   "id": "08ec5363",
   "metadata": {
    "papermill": {
     "duration": 0.038913,
     "end_time": "2022-01-29T16:50:41.608916",
     "exception": false,
     "start_time": "2022-01-29T16:50:41.570003",
     "status": "completed"
    },
    "tags": []
   },
   "source": [
    "### Cabin"
   ]
  },
  {
   "cell_type": "code",
   "execution_count": 4,
   "id": "ef570229",
   "metadata": {
    "execution": {
     "iopub.execute_input": "2022-01-29T16:50:41.691449Z",
     "iopub.status.busy": "2022-01-29T16:50:41.690711Z",
     "iopub.status.idle": "2022-01-29T16:50:41.697850Z",
     "shell.execute_reply": "2022-01-29T16:50:41.698431Z",
     "shell.execute_reply.started": "2022-01-29T16:31:05.635574Z"
    },
    "papermill": {
     "duration": 0.050281,
     "end_time": "2022-01-29T16:50:41.698642",
     "exception": false,
     "start_time": "2022-01-29T16:50:41.648361",
     "status": "completed"
    },
    "tags": []
   },
   "outputs": [],
   "source": [
    "# We can see that most of the values in cabin are empty, so we can drop it\n",
    "train_df.drop('Cabin',axis=1,inplace=True)\n",
    "test_df.drop('Cabin',axis=1,inplace=True)"
   ]
  },
  {
   "cell_type": "markdown",
   "id": "bc3bac07",
   "metadata": {
    "papermill": {
     "duration": 0.039267,
     "end_time": "2022-01-29T16:50:41.777939",
     "exception": false,
     "start_time": "2022-01-29T16:50:41.738672",
     "status": "completed"
    },
    "tags": []
   },
   "source": [
    "### Age and Title"
   ]
  },
  {
   "cell_type": "code",
   "execution_count": 5,
   "id": "58444960",
   "metadata": {
    "execution": {
     "iopub.execute_input": "2022-01-29T16:50:41.869709Z",
     "iopub.status.busy": "2022-01-29T16:50:41.868948Z",
     "iopub.status.idle": "2022-01-29T16:50:41.884263Z",
     "shell.execute_reply": "2022-01-29T16:50:41.884828Z",
     "shell.execute_reply.started": "2022-01-29T16:31:05.645461Z"
    },
    "papermill": {
     "duration": 0.067284,
     "end_time": "2022-01-29T16:50:41.885037",
     "exception": false,
     "start_time": "2022-01-29T16:50:41.817753",
     "status": "completed"
    },
    "tags": []
   },
   "outputs": [
    {
     "data": {
      "text/plain": [
       "Mr          757\n",
       "Miss        260\n",
       "Mrs         197\n",
       "Master       61\n",
       "Rev           8\n",
       "Dr            8\n",
       "Col           4\n",
       "Mlle          2\n",
       "Major         2\n",
       "Ms            2\n",
       "Lady          1\n",
       "Sir           1\n",
       "Mme           1\n",
       "Don           1\n",
       "Capt          1\n",
       "Countess      1\n",
       "Jonkheer      1\n",
       "Dona          1\n",
       "Name: Title, dtype: int64"
      ]
     },
     "execution_count": 5,
     "metadata": {},
     "output_type": "execute_result"
    }
   ],
   "source": [
    "whole_df = train_df.append(test_df)\n",
    "whole_df['Title'] = whole_df.Name.str.extract(r'([A-Za-z]+)\\.',expand=False)\n",
    "whole_df.Title.value_counts()"
   ]
  },
  {
   "cell_type": "code",
   "execution_count": 6,
   "id": "0e562884",
   "metadata": {
    "execution": {
     "iopub.execute_input": "2022-01-29T16:50:41.969179Z",
     "iopub.status.busy": "2022-01-29T16:50:41.968466Z",
     "iopub.status.idle": "2022-01-29T16:50:41.982712Z",
     "shell.execute_reply": "2022-01-29T16:50:41.981984Z",
     "shell.execute_reply.started": "2022-01-29T16:31:05.678837Z"
    },
    "papermill": {
     "duration": 0.057784,
     "end_time": "2022-01-29T16:50:41.982912",
     "exception": false,
     "start_time": "2022-01-29T16:50:41.925128",
     "status": "completed"
    },
    "tags": []
   },
   "outputs": [],
   "source": [
    "Common_Title = ['Mr','Mrs','Master']\n",
    "whole_df['Title'].replace(['Lady','Mlle','Ms','Mme','Miss'],'Mrs',inplace=True)\n",
    "whole_df['Title'].replace(['Sir', 'Rev'], 'Mr', inplace=True)\n",
    "whole_df['Title'][~whole_df.Title.isin(Common_Title)] = 'Others'"
   ]
  },
  {
   "cell_type": "code",
   "execution_count": 7,
   "id": "d3323c85",
   "metadata": {
    "execution": {
     "iopub.execute_input": "2022-01-29T16:50:42.067666Z",
     "iopub.status.busy": "2022-01-29T16:50:42.066905Z",
     "iopub.status.idle": "2022-01-29T16:50:42.075856Z",
     "shell.execute_reply": "2022-01-29T16:50:42.076427Z",
     "shell.execute_reply.started": "2022-01-29T16:31:05.694037Z"
    },
    "papermill": {
     "duration": 0.053507,
     "end_time": "2022-01-29T16:50:42.076637",
     "exception": false,
     "start_time": "2022-01-29T16:50:42.023130",
     "status": "completed"
    },
    "tags": []
   },
   "outputs": [],
   "source": [
    "train_df = whole_df[:len(train_df)]\n",
    "test_df = whole_df[len(train_df):]\n",
    "AgeMedian_by_titles = train_df.groupby('Title')['Age'].median()\n"
   ]
  },
  {
   "cell_type": "code",
   "execution_count": 8,
   "id": "ffd874b0",
   "metadata": {
    "execution": {
     "iopub.execute_input": "2022-01-29T16:50:42.175062Z",
     "iopub.status.busy": "2022-01-29T16:50:42.174172Z",
     "iopub.status.idle": "2022-01-29T16:50:42.192885Z",
     "shell.execute_reply": "2022-01-29T16:50:42.192198Z",
     "shell.execute_reply.started": "2022-01-29T16:31:05.706382Z"
    },
    "papermill": {
     "duration": 0.076454,
     "end_time": "2022-01-29T16:50:42.193063",
     "exception": false,
     "start_time": "2022-01-29T16:50:42.116609",
     "status": "completed"
    },
    "tags": []
   },
   "outputs": [],
   "source": [
    "for title in AgeMedian_by_titles.index:\n",
    "    train_df['Age'][(train_df.Age.isnull()) & (train_df.Title == title)] = AgeMedian_by_titles[title]\n",
    "    test_df['Age'][(test_df.Age.isnull()) & (test_df.Title == title)] = AgeMedian_by_titles[title]"
   ]
  },
  {
   "cell_type": "code",
   "execution_count": 9,
   "id": "ea7703c0",
   "metadata": {
    "execution": {
     "iopub.execute_input": "2022-01-29T16:50:42.282364Z",
     "iopub.status.busy": "2022-01-29T16:50:42.281592Z",
     "iopub.status.idle": "2022-01-29T16:50:42.294619Z",
     "shell.execute_reply": "2022-01-29T16:50:42.293660Z",
     "shell.execute_reply.started": "2022-01-29T16:31:05.739006Z"
    },
    "papermill": {
     "duration": 0.061585,
     "end_time": "2022-01-29T16:50:42.294866",
     "exception": false,
     "start_time": "2022-01-29T16:50:42.233281",
     "status": "completed"
    },
    "tags": []
   },
   "outputs": [
    {
     "name": "stdout",
     "output_type": "stream",
     "text": [
      "<class 'pandas.core.frame.DataFrame'>\n",
      "Int64Index: 418 entries, 0 to 417\n",
      "Data columns (total 12 columns):\n",
      " #   Column       Non-Null Count  Dtype  \n",
      "---  ------       --------------  -----  \n",
      " 0   PassengerId  418 non-null    int64  \n",
      " 1   Survived     0 non-null      float64\n",
      " 2   Pclass       418 non-null    int64  \n",
      " 3   Name         418 non-null    object \n",
      " 4   Sex          418 non-null    object \n",
      " 5   Age          418 non-null    float64\n",
      " 6   SibSp        418 non-null    int64  \n",
      " 7   Parch        418 non-null    int64  \n",
      " 8   Ticket       418 non-null    object \n",
      " 9   Fare         417 non-null    float64\n",
      " 10  Embarked     418 non-null    object \n",
      " 11  Title        418 non-null    object \n",
      "dtypes: float64(3), int64(4), object(5)\n",
      "memory usage: 42.5+ KB\n"
     ]
    }
   ],
   "source": [
    "test_df.info()"
   ]
  },
  {
   "cell_type": "markdown",
   "id": "be8322c5",
   "metadata": {
    "papermill": {
     "duration": 0.040311,
     "end_time": "2022-01-29T16:50:42.379078",
     "exception": false,
     "start_time": "2022-01-29T16:50:42.338767",
     "status": "completed"
    },
    "tags": []
   },
   "source": [
    "### Embarked"
   ]
  },
  {
   "cell_type": "code",
   "execution_count": 10,
   "id": "cd5874ed",
   "metadata": {
    "execution": {
     "iopub.execute_input": "2022-01-29T16:50:42.464561Z",
     "iopub.status.busy": "2022-01-29T16:50:42.463810Z",
     "iopub.status.idle": "2022-01-29T16:50:42.468739Z",
     "shell.execute_reply": "2022-01-29T16:50:42.469237Z",
     "shell.execute_reply.started": "2022-01-29T16:31:05.756750Z"
    },
    "papermill": {
     "duration": 0.049625,
     "end_time": "2022-01-29T16:50:42.469452",
     "exception": false,
     "start_time": "2022-01-29T16:50:42.419827",
     "status": "completed"
    },
    "tags": []
   },
   "outputs": [],
   "source": [
    "train_df['Embarked'].fillna('S',inplace=True)"
   ]
  },
  {
   "cell_type": "markdown",
   "id": "329f5939",
   "metadata": {
    "papermill": {
     "duration": 0.040747,
     "end_time": "2022-01-29T16:50:42.550826",
     "exception": false,
     "start_time": "2022-01-29T16:50:42.510079",
     "status": "completed"
    },
    "tags": []
   },
   "source": []
  },
  {
   "cell_type": "markdown",
   "id": "082d5bc6",
   "metadata": {
    "papermill": {
     "duration": 0.04138,
     "end_time": "2022-01-29T16:50:42.635324",
     "exception": false,
     "start_time": "2022-01-29T16:50:42.593944",
     "status": "completed"
    },
    "tags": []
   },
   "source": [
    "### Fare"
   ]
  },
  {
   "cell_type": "code",
   "execution_count": 11,
   "id": "224e9a5f",
   "metadata": {
    "execution": {
     "iopub.execute_input": "2022-01-29T16:50:42.720198Z",
     "iopub.status.busy": "2022-01-29T16:50:42.719397Z",
     "iopub.status.idle": "2022-01-29T16:50:42.742228Z",
     "shell.execute_reply": "2022-01-29T16:50:42.741599Z",
     "shell.execute_reply.started": "2022-01-29T16:31:05.771999Z"
    },
    "papermill": {
     "duration": 0.066738,
     "end_time": "2022-01-29T16:50:42.742415",
     "exception": false,
     "start_time": "2022-01-29T16:50:42.675677",
     "status": "completed"
    },
    "tags": []
   },
   "outputs": [
    {
     "data": {
      "text/html": [
       "<div>\n",
       "<style scoped>\n",
       "    .dataframe tbody tr th:only-of-type {\n",
       "        vertical-align: middle;\n",
       "    }\n",
       "\n",
       "    .dataframe tbody tr th {\n",
       "        vertical-align: top;\n",
       "    }\n",
       "\n",
       "    .dataframe thead th {\n",
       "        text-align: right;\n",
       "    }\n",
       "</style>\n",
       "<table border=\"1\" class=\"dataframe\">\n",
       "  <thead>\n",
       "    <tr style=\"text-align: right;\">\n",
       "      <th></th>\n",
       "      <th>PassengerId</th>\n",
       "      <th>Survived</th>\n",
       "      <th>Pclass</th>\n",
       "      <th>Name</th>\n",
       "      <th>Sex</th>\n",
       "      <th>Age</th>\n",
       "      <th>SibSp</th>\n",
       "      <th>Parch</th>\n",
       "      <th>Ticket</th>\n",
       "      <th>Fare</th>\n",
       "      <th>Embarked</th>\n",
       "      <th>Title</th>\n",
       "    </tr>\n",
       "  </thead>\n",
       "  <tbody>\n",
       "    <tr>\n",
       "      <th>152</th>\n",
       "      <td>1044</td>\n",
       "      <td>NaN</td>\n",
       "      <td>3</td>\n",
       "      <td>Storey, Mr. Thomas</td>\n",
       "      <td>male</td>\n",
       "      <td>60.5</td>\n",
       "      <td>0</td>\n",
       "      <td>0</td>\n",
       "      <td>3701</td>\n",
       "      <td>NaN</td>\n",
       "      <td>S</td>\n",
       "      <td>Mr</td>\n",
       "    </tr>\n",
       "  </tbody>\n",
       "</table>\n",
       "</div>"
      ],
      "text/plain": [
       "     PassengerId  Survived  Pclass                Name   Sex   Age  SibSp  \\\n",
       "152         1044       NaN       3  Storey, Mr. Thomas  male  60.5      0   \n",
       "\n",
       "     Parch Ticket  Fare Embarked Title  \n",
       "152      0   3701   NaN        S    Mr  "
      ]
     },
     "execution_count": 11,
     "metadata": {},
     "output_type": "execute_result"
    }
   ],
   "source": [
    "test_df[test_df['Fare'].isnull()]"
   ]
  },
  {
   "cell_type": "code",
   "execution_count": 12,
   "id": "cba7e068",
   "metadata": {
    "execution": {
     "iopub.execute_input": "2022-01-29T16:50:42.835871Z",
     "iopub.status.busy": "2022-01-29T16:50:42.834672Z",
     "iopub.status.idle": "2022-01-29T16:50:42.837910Z",
     "shell.execute_reply": "2022-01-29T16:50:42.837193Z",
     "shell.execute_reply.started": "2022-01-29T16:31:05.799465Z"
    },
    "papermill": {
     "duration": 0.05373,
     "end_time": "2022-01-29T16:50:42.838099",
     "exception": false,
     "start_time": "2022-01-29T16:50:42.784369",
     "status": "completed"
    },
    "tags": []
   },
   "outputs": [],
   "source": [
    "test_df['Fare'].fillna(7.854, inplace=True)"
   ]
  },
  {
   "cell_type": "code",
   "execution_count": 13,
   "id": "e904aa77",
   "metadata": {
    "execution": {
     "iopub.execute_input": "2022-01-29T16:50:42.928215Z",
     "iopub.status.busy": "2022-01-29T16:50:42.926838Z",
     "iopub.status.idle": "2022-01-29T16:50:42.935157Z",
     "shell.execute_reply": "2022-01-29T16:50:42.935848Z",
     "shell.execute_reply.started": "2022-01-29T16:31:05.806111Z"
    },
    "papermill": {
     "duration": 0.054291,
     "end_time": "2022-01-29T16:50:42.936085",
     "exception": false,
     "start_time": "2022-01-29T16:50:42.881794",
     "status": "completed"
    },
    "tags": []
   },
   "outputs": [],
   "source": [
    "train_df['Fare'].sort_values(ascending=False).head()\n",
    "train_df.loc[train_df.Fare>512, 'Fare'] = 263"
   ]
  },
  {
   "cell_type": "markdown",
   "id": "5cd339c0",
   "metadata": {
    "papermill": {
     "duration": 0.040522,
     "end_time": "2022-01-29T16:50:43.018981",
     "exception": false,
     "start_time": "2022-01-29T16:50:42.978459",
     "status": "completed"
    },
    "tags": []
   },
   "source": [
    "# Data Transformation"
   ]
  },
  {
   "cell_type": "code",
   "execution_count": 14,
   "id": "9081acaa",
   "metadata": {
    "execution": {
     "iopub.execute_input": "2022-01-29T16:50:43.122061Z",
     "iopub.status.busy": "2022-01-29T16:50:43.121213Z",
     "iopub.status.idle": "2022-01-29T16:50:43.122740Z",
     "shell.execute_reply": "2022-01-29T16:50:43.123281Z",
     "shell.execute_reply.started": "2022-01-29T16:31:05.827833Z"
    },
    "papermill": {
     "duration": 0.061444,
     "end_time": "2022-01-29T16:50:43.123478",
     "exception": false,
     "start_time": "2022-01-29T16:50:43.062034",
     "status": "completed"
    },
    "tags": []
   },
   "outputs": [],
   "source": [
    "train_df['Sex'] = train_df['Sex'].map({'female':1,'male':0}).astype('int')\n",
    "test_df['Sex'] = test_df['Sex'].map({'female':1, 'male':0}).astype('int')\n",
    "\n",
    "train_df['Embarked'] = train_df['Embarked'].map({'S':0, 'C':1, 'Q':2}).astype('int')\n",
    "test_df['Embarked'] = test_df['Embarked'].map({'S':0, 'C':1, 'Q':2}).astype('int')"
   ]
  },
  {
   "cell_type": "code",
   "execution_count": 15,
   "id": "d6a44b21",
   "metadata": {
    "execution": {
     "iopub.execute_input": "2022-01-29T16:50:43.209665Z",
     "iopub.status.busy": "2022-01-29T16:50:43.208892Z",
     "iopub.status.idle": "2022-01-29T16:50:43.627110Z",
     "shell.execute_reply": "2022-01-29T16:50:43.626425Z",
     "shell.execute_reply.started": "2022-01-29T16:31:05.843199Z"
    },
    "papermill": {
     "duration": 0.462196,
     "end_time": "2022-01-29T16:50:43.627273",
     "exception": false,
     "start_time": "2022-01-29T16:50:43.165077",
     "status": "completed"
    },
    "tags": []
   },
   "outputs": [
    {
     "data": {
      "image/png": "[encoded data removed]",
      "text/plain": [
       "<Figure size 864x360 with 1 Axes>"
      ]
     },
     "metadata": {
      "needs_background": "light"
     },
     "output_type": "display_data"
    }
   ],
   "source": [
    "train_df['AgeBin_5'] = pd.qcut(train_df['Age'], 5)\n",
    "test_df['AgeBin_5'] = pd.qcut(test_df['Age'], 5)\n",
    "\n",
    "fig = plt.figure(figsize=(12,5))\n",
    "sns.barplot(x='AgeBin_5', y='Survived', data=train_df)\n",
    "plt.show()"
   ]
  },
  {
   "cell_type": "code",
   "execution_count": 16,
   "id": "68969d45",
   "metadata": {
    "execution": {
     "iopub.execute_input": "2022-01-29T16:50:43.719302Z",
     "iopub.status.busy": "2022-01-29T16:50:43.715532Z",
     "iopub.status.idle": "2022-01-29T16:50:44.092605Z",
     "shell.execute_reply": "2022-01-29T16:50:44.091911Z",
     "shell.execute_reply.started": "2022-01-29T16:31:06.164462Z"
    },
    "papermill": {
     "duration": 0.423435,
     "end_time": "2022-01-29T16:50:44.092779",
     "exception": false,
     "start_time": "2022-01-29T16:50:43.669344",
     "status": "completed"
    },
    "tags": []
   },
   "outputs": [
    {
     "data": {
      "image/png": "[encoded data removed]",
      "text/plain": [
       "<Figure size 864x360 with 1 Axes>"
      ]
     },
     "metadata": {
      "needs_background": "light"
     },
     "output_type": "display_data"
    }
   ],
   "source": [
    "train_df['FareBin_5'] = pd.qcut(train_df['Fare'], 5)\n",
    "test_df['FareBin_5'] = pd.qcut(test_df['Fare'], 5)\n",
    "\n",
    "fig = plt.figure(figsize=(12,5))\n",
    "sns.barplot(x='FareBin_5', y='Survived', data=train_df)\n",
    "plt.show()"
   ]
  },
  {
   "cell_type": "code",
   "execution_count": 17,
   "id": "65f3c554",
   "metadata": {
    "execution": {
     "iopub.execute_input": "2022-01-29T16:50:44.194317Z",
     "iopub.status.busy": "2022-01-29T16:50:44.186467Z",
     "iopub.status.idle": "2022-01-29T16:50:44.203181Z",
     "shell.execute_reply": "2022-01-29T16:50:44.203753Z",
     "shell.execute_reply.started": "2022-01-29T16:31:06.540275Z"
    },
    "papermill": {
     "duration": 0.067527,
     "end_time": "2022-01-29T16:50:44.203961",
     "exception": false,
     "start_time": "2022-01-29T16:50:44.136434",
     "status": "completed"
    },
    "tags": []
   },
   "outputs": [],
   "source": [
    "label = LabelEncoder()\n",
    "train_df['AgeBin_Code_5'] = label.fit_transform(train_df['AgeBin_5'])\n",
    "test_df['AgeBin_Code_5'] = label.fit_transform(test_df['AgeBin_5'])\n",
    "label = LabelEncoder()\n",
    "train_df['FareBin_Code_5'] = label.fit_transform(train_df['FareBin_5'])\n",
    "test_df['FareBin_Code_5'] = label.fit_transform(test_df['FareBin_5'])"
   ]
  },
  {
   "cell_type": "code",
   "execution_count": 18,
   "id": "01477b7b",
   "metadata": {
    "execution": {
     "iopub.execute_input": "2022-01-29T16:50:44.297067Z",
     "iopub.status.busy": "2022-01-29T16:50:44.293175Z",
     "iopub.status.idle": "2022-01-29T16:50:44.306139Z",
     "shell.execute_reply": "2022-01-29T16:50:44.305345Z",
     "shell.execute_reply.started": "2022-01-29T16:31:06.563778Z"
    },
    "papermill": {
     "duration": 0.059789,
     "end_time": "2022-01-29T16:50:44.306330",
     "exception": false,
     "start_time": "2022-01-29T16:50:44.246541",
     "status": "completed"
    },
    "tags": []
   },
   "outputs": [],
   "source": [
    "train_df['FamilySize'] = train_df.SibSp + train_df.Parch + 1\n",
    "test_df['FamilySize'] = test_df.SibSp + test_df.Parch + 1\n",
    "\n",
    "train_df['Alone'] = train_df.FamilySize.map(lambda x: 1 if x == 1 else 0)\n",
    "test_df['Alone'] = test_df.FamilySize.map(lambda x: 1 if x == 1 else 0)"
   ]
  },
  {
   "cell_type": "code",
   "execution_count": 19,
   "id": "e4c55768",
   "metadata": {
    "execution": {
     "iopub.execute_input": "2022-01-29T16:50:44.402774Z",
     "iopub.status.busy": "2022-01-29T16:50:44.401979Z",
     "iopub.status.idle": "2022-01-29T16:50:44.404202Z",
     "shell.execute_reply": "2022-01-29T16:50:44.404809Z",
     "shell.execute_reply.started": "2022-01-29T16:31:06.588474Z"
    },
    "papermill": {
     "duration": 0.056049,
     "end_time": "2022-01-29T16:50:44.405027",
     "exception": false,
     "start_time": "2022-01-29T16:50:44.348978",
     "status": "completed"
    },
    "tags": []
   },
   "outputs": [],
   "source": [
    "train_df['Title_Code'] = train_df.Title.map({'Mr':0, 'Mrs':1, 'Master':2, 'Others':3}).astype('int')\n",
    "test_df['Title_Code'] = test_df.Title.map({'Mr':0, 'Mrs':1, 'Master':2, 'Others':3}).astype('int')"
   ]
  },
  {
   "cell_type": "code",
   "execution_count": 20,
   "id": "6c02fc91",
   "metadata": {
    "execution": {
     "iopub.execute_input": "2022-01-29T16:50:44.495837Z",
     "iopub.status.busy": "2022-01-29T16:50:44.494974Z",
     "iopub.status.idle": "2022-01-29T16:50:44.695206Z",
     "shell.execute_reply": "2022-01-29T16:50:44.695817Z",
     "shell.execute_reply.started": "2022-01-29T16:31:06.607188Z"
    },
    "papermill": {
     "duration": 0.248125,
     "end_time": "2022-01-29T16:50:44.696068",
     "exception": false,
     "start_time": "2022-01-29T16:50:44.447943",
     "status": "completed"
    },
    "tags": []
   },
   "outputs": [
    {
     "data": {
      "image/png": "[encoded data removed]",
      "text/plain": [
       "<Figure size 432x288 with 1 Axes>"
      ]
     },
     "metadata": {
      "needs_background": "light"
     },
     "output_type": "display_data"
    }
   ],
   "source": [
    "whole_df = train_df.append(test_df)\n",
    "whole_df['Surname'] = whole_df.Name.str.extract(r'([A-Za-z]+),', expand=False)\n",
    "whole_df['TixPref'] = whole_df.Ticket.str.extract(r'(.*\\d)', expand=False)\n",
    "whole_df['SurTix'] = whole_df['Surname'] + whole_df['TixPref']\n",
    "whole_df['IsFamily'] = whole_df.SurTix.duplicated(keep=False)*1\n",
    "sns.countplot(whole_df.IsFamily)\n",
    "plt.show()"
   ]
  },
  {
   "cell_type": "code",
   "execution_count": 21,
   "id": "6c327df1",
   "metadata": {
    "execution": {
     "iopub.execute_input": "2022-01-29T16:50:44.788578Z",
     "iopub.status.busy": "2022-01-29T16:50:44.787830Z",
     "iopub.status.idle": "2022-01-29T16:50:44.801275Z",
     "shell.execute_reply": "2022-01-29T16:50:44.801858Z",
     "shell.execute_reply.started": "2022-01-29T16:31:06.767678Z"
    },
    "papermill": {
     "duration": 0.061745,
     "end_time": "2022-01-29T16:50:44.802107",
     "exception": false,
     "start_time": "2022-01-29T16:50:44.740362",
     "status": "completed"
    },
    "tags": []
   },
   "outputs": [
    {
     "name": "stdout",
     "output_type": "stream",
     "text": [
      "There are 59 families with children.\n"
     ]
    }
   ],
   "source": [
    "whole_df['Child'] = whole_df.Age.map(lambda x: 1 if x <= 13 else 0)\n",
    "FamilyWithChild = whole_df[(whole_df.IsFamily==1)&(whole_df.Child==1)]['SurTix'].unique()\n",
    "print('There are {} families with children.'.format(len(FamilyWithChild)))"
   ]
  },
  {
   "cell_type": "code",
   "execution_count": 22,
   "id": "5457cf4c",
   "metadata": {
    "execution": {
     "iopub.execute_input": "2022-01-29T16:50:44.895271Z",
     "iopub.status.busy": "2022-01-29T16:50:44.894515Z",
     "iopub.status.idle": "2022-01-29T16:50:44.994357Z",
     "shell.execute_reply": "2022-01-29T16:50:44.995043Z",
     "shell.execute_reply.started": "2022-01-29T16:31:06.787936Z"
    },
    "papermill": {
     "duration": 0.149295,
     "end_time": "2022-01-29T16:50:44.995259",
     "exception": false,
     "start_time": "2022-01-29T16:50:44.845964",
     "status": "completed"
    },
    "tags": []
   },
   "outputs": [],
   "source": [
    "whole_df['FamilyId'] = 0\n",
    "x = 1\n",
    "for tix in FamilyWithChild:\n",
    "    whole_df.loc[whole_df.SurTix==tix, ['FamilyId']] = x\n",
    "    x += 1"
   ]
  },
  {
   "cell_type": "code",
   "execution_count": 23,
   "id": "668ca69e",
   "metadata": {
    "execution": {
     "iopub.execute_input": "2022-01-29T16:50:45.088777Z",
     "iopub.status.busy": "2022-01-29T16:50:45.087709Z",
     "iopub.status.idle": "2022-01-29T16:50:46.347887Z",
     "shell.execute_reply": "2022-01-29T16:50:46.347117Z",
     "shell.execute_reply.started": "2022-01-29T16:31:06.882313Z"
    },
    "papermill": {
     "duration": 1.30762,
     "end_time": "2022-01-29T16:50:46.348058",
     "exception": false,
     "start_time": "2022-01-29T16:50:45.040438",
     "status": "completed"
    },
    "tags": []
   },
   "outputs": [
    {
     "data": {
      "image/png": "[encoded data removed]",
      "text/plain": [
       "<Figure size 936x360 with 1 Axes>"
      ]
     },
     "metadata": {
      "needs_background": "light"
     },
     "output_type": "display_data"
    }
   ],
   "source": [
    "whole_df['SurvivedDemo'] = whole_df['Survived'].fillna(9)\n",
    "pd.crosstab(whole_df.FamilyId, whole_df.SurvivedDemo).drop([0]).plot(kind='bar', stacked=True, color=['black','g','grey'], figsize=(13,5))\n",
    "plt.show()"
   ]
  },
  {
   "cell_type": "code",
   "execution_count": 24,
   "id": "eb2e1882",
   "metadata": {
    "execution": {
     "iopub.execute_input": "2022-01-29T16:50:46.441951Z",
     "iopub.status.busy": "2022-01-29T16:50:46.441119Z",
     "iopub.status.idle": "2022-01-29T16:50:46.777514Z",
     "shell.execute_reply": "2022-01-29T16:50:46.776792Z",
     "shell.execute_reply.started": "2022-01-29T16:31:07.994002Z"
    },
    "papermill": {
     "duration": 0.384812,
     "end_time": "2022-01-29T16:50:46.777677",
     "exception": false,
     "start_time": "2022-01-29T16:50:46.392865",
     "status": "completed"
    },
    "tags": []
   },
   "outputs": [
    {
     "data": {
      "image/png": "[encoded data removed]",
      "text/plain": [
       "<Figure size 432x288 with 1 Axes>"
      ]
     },
     "metadata": {
      "needs_background": "light"
     },
     "output_type": "display_data"
    }
   ],
   "source": [
    "whole_df['ConnectedSurvival'] = 1 \n",
    "Survived_by_FamilyId = whole_df.groupby('FamilyId').Survived.sum()\n",
    "for i in range(1, len(FamilyWithChild)+1):\n",
    "    if Survived_by_FamilyId[i] >= 1:\n",
    "        whole_df.loc[whole_df.FamilyId==i, ['ConnectedSurvival']] = 2\n",
    "    elif Survived_by_FamilyId[i] == 0:\n",
    "        whole_df.loc[whole_df.FamilyId==i, ['ConnectedSurvival']] = 0\n",
    "train_df = whole_df[:len(train_df)]\n",
    "test_df = whole_df[len(train_df):]\n",
    "sns.barplot(x='ConnectedSurvival', y='Survived', data=train_df)\n",
    "plt.show()"
   ]
  },
  {
   "cell_type": "code",
   "execution_count": 25,
   "id": "737bdb10",
   "metadata": {
    "execution": {
     "iopub.execute_input": "2022-01-29T16:50:46.874513Z",
     "iopub.status.busy": "2022-01-29T16:50:46.873771Z",
     "iopub.status.idle": "2022-01-29T16:50:46.882479Z",
     "shell.execute_reply": "2022-01-29T16:50:46.881873Z",
     "shell.execute_reply.started": "2022-01-29T16:31:08.341124Z"
    },
    "papermill": {
     "duration": 0.059103,
     "end_time": "2022-01-29T16:50:46.882651",
     "exception": false,
     "start_time": "2022-01-29T16:50:46.823548",
     "status": "completed"
    },
    "tags": []
   },
   "outputs": [],
   "source": [
    "X = train_df.drop(['Name', 'Parch', 'PassengerId', 'SibSp', \n",
    "                           'Ticket', 'Title', 'AgeBin_5', 'FareBin_5',  \n",
    "                           'Surname', 'TixPref', 'SurTix', 'IsFamily', 'Child', \n",
    "                           'FamilyId', 'Survived', 'SurvivedDemo', 'Age', 'Fare'], axis=1)\n",
    "\n",
    "y = train_df['Survived']"
   ]
  },
  {
   "cell_type": "code",
   "execution_count": 26,
   "id": "46e3b435",
   "metadata": {
    "execution": {
     "iopub.execute_input": "2022-01-29T16:50:46.984162Z",
     "iopub.status.busy": "2022-01-29T16:50:46.983404Z",
     "iopub.status.idle": "2022-01-29T16:50:46.987627Z",
     "shell.execute_reply": "2022-01-29T16:50:46.987099Z",
     "shell.execute_reply.started": "2022-01-29T16:31:08.350412Z"
    },
    "papermill": {
     "duration": 0.058856,
     "end_time": "2022-01-29T16:50:46.987801",
     "exception": false,
     "start_time": "2022-01-29T16:50:46.928945",
     "status": "completed"
    },
    "tags": []
   },
   "outputs": [],
   "source": [
    "from sklearn.model_selection import train_test_split\n",
    "X_train,X_test,y_train,y_test = train_test_split(X,y)"
   ]
  },
  {
   "cell_type": "code",
   "execution_count": 27,
   "id": "c52ae514",
   "metadata": {
    "execution": {
     "iopub.execute_input": "2022-01-29T16:50:47.083412Z",
     "iopub.status.busy": "2022-01-29T16:50:47.082698Z",
     "iopub.status.idle": "2022-01-29T16:50:47.085780Z",
     "shell.execute_reply": "2022-01-29T16:50:47.085114Z",
     "shell.execute_reply.started": "2022-01-29T16:31:08.365409Z"
    },
    "papermill": {
     "duration": 0.053241,
     "end_time": "2022-01-29T16:50:47.085994",
     "exception": false,
     "start_time": "2022-01-29T16:50:47.032753",
     "status": "completed"
    },
    "tags": []
   },
   "outputs": [],
   "source": [
    "final = ['Title_Code', 'ConnectedSurvival', 'FareBin_Code_5', 'Pclass',  'FamilySize']"
   ]
  },
  {
   "cell_type": "markdown",
   "id": "6862d12f",
   "metadata": {
    "papermill": {
     "duration": 0.044402,
     "end_time": "2022-01-29T16:50:47.175375",
     "exception": false,
     "start_time": "2022-01-29T16:50:47.130973",
     "status": "completed"
    },
    "tags": []
   },
   "source": [
    "# MODELS"
   ]
  },
  {
   "cell_type": "markdown",
   "id": "4761c2e6",
   "metadata": {
    "papermill": {
     "duration": 0.045137,
     "end_time": "2022-01-29T16:50:47.265218",
     "exception": false,
     "start_time": "2022-01-29T16:50:47.220081",
     "status": "completed"
    },
    "tags": []
   },
   "source": [
    "## Logistic Regression"
   ]
  },
  {
   "cell_type": "code",
   "execution_count": 28,
   "id": "c713ce5a",
   "metadata": {
    "execution": {
     "iopub.execute_input": "2022-01-29T16:50:47.363420Z",
     "iopub.status.busy": "2022-01-29T16:50:47.362653Z",
     "iopub.status.idle": "2022-01-29T16:50:47.380923Z",
     "shell.execute_reply": "2022-01-29T16:50:47.381494Z",
     "shell.execute_reply.started": "2022-01-29T16:31:08.381459Z"
    },
    "papermill": {
     "duration": 0.071872,
     "end_time": "2022-01-29T16:50:47.381716",
     "exception": false,
     "start_time": "2022-01-29T16:50:47.309844",
     "status": "completed"
    },
    "tags": []
   },
   "outputs": [
    {
     "data": {
      "text/plain": [
       "LogisticRegression()"
      ]
     },
     "execution_count": 28,
     "metadata": {},
     "output_type": "execute_result"
    }
   ],
   "source": [
    "model = LogisticRegression()\n",
    "model.fit(X_train[final],y_train)"
   ]
  },
  {
   "cell_type": "code",
   "execution_count": 29,
   "id": "e3563310",
   "metadata": {
    "execution": {
     "iopub.execute_input": "2022-01-29T16:50:47.479412Z",
     "iopub.status.busy": "2022-01-29T16:50:47.478651Z",
     "iopub.status.idle": "2022-01-29T16:50:47.486987Z",
     "shell.execute_reply": "2022-01-29T16:50:47.486206Z",
     "shell.execute_reply.started": "2022-01-29T16:31:08.411231Z"
    },
    "papermill": {
     "duration": 0.059965,
     "end_time": "2022-01-29T16:50:47.487210",
     "exception": false,
     "start_time": "2022-01-29T16:50:47.427245",
     "status": "completed"
    },
    "tags": []
   },
   "outputs": [
    {
     "name": "stdout",
     "output_type": "stream",
     "text": [
      "Accuracy score for logistic regression model is 79.82062780269058\n"
     ]
    }
   ],
   "source": [
    "print(f\"Accuracy score for logistic regression model is {model.score(X_test[final],y_test)*100}\")"
   ]
  },
  {
   "cell_type": "code",
   "execution_count": 30,
   "id": "b7a19ccb",
   "metadata": {
    "execution": {
     "iopub.execute_input": "2022-01-29T16:50:47.583132Z",
     "iopub.status.busy": "2022-01-29T16:50:47.582084Z",
     "iopub.status.idle": "2022-01-29T16:50:47.629641Z",
     "shell.execute_reply": "2022-01-29T16:50:47.629083Z",
     "shell.execute_reply.started": "2022-01-29T16:31:08.427592Z"
    },
    "papermill": {
     "duration": 0.096931,
     "end_time": "2022-01-29T16:50:47.629823",
     "exception": false,
     "start_time": "2022-01-29T16:50:47.532892",
     "status": "completed"
    },
    "tags": []
   },
   "outputs": [
    {
     "data": {
      "text/plain": [
       "array([0.79124579, 0.81144781, 0.82491582])"
      ]
     },
     "execution_count": 30,
     "metadata": {},
     "output_type": "execute_result"
    }
   ],
   "source": [
    "# Checking cross val score for this model\n",
    "cross_val_score(model, X[final],y,cv=3)"
   ]
  },
  {
   "cell_type": "code",
   "execution_count": 31,
   "id": "a041d4e8",
   "metadata": {
    "execution": {
     "iopub.execute_input": "2022-01-29T16:50:47.726339Z",
     "iopub.status.busy": "2022-01-29T16:50:47.725240Z",
     "iopub.status.idle": "2022-01-29T16:50:47.989057Z",
     "shell.execute_reply": "2022-01-29T16:50:47.989880Z",
     "shell.execute_reply.started": "2022-01-29T16:31:08.475925Z"
    },
    "papermill": {
     "duration": 0.314352,
     "end_time": "2022-01-29T16:50:47.990142",
     "exception": false,
     "start_time": "2022-01-29T16:50:47.675790",
     "status": "completed"
    },
    "tags": []
   },
   "outputs": [
    {
     "data": {
      "text/plain": [
       "<AxesSubplot:>"
      ]
     },
     "execution_count": 31,
     "metadata": {},
     "output_type": "execute_result"
    },
    {
     "data": {
      "image/png": "[encoded data removed]",
      "text/plain": [
       "<Figure size 432x288 with 2 Axes>"
      ]
     },
     "metadata": {
      "needs_background": "light"
     },
     "output_type": "display_data"
    }
   ],
   "source": [
    "predict = model.predict(X_test[final])\n",
    "cf = confusion_matrix(y_test,predict)\n",
    "sns.heatmap(cf, cmap='Reds',annot=True)"
   ]
  },
  {
   "cell_type": "markdown",
   "id": "0f963827",
   "metadata": {
    "papermill": {
     "duration": 0.050567,
     "end_time": "2022-01-29T16:50:48.103511",
     "exception": false,
     "start_time": "2022-01-29T16:50:48.052944",
     "status": "completed"
    },
    "tags": []
   },
   "source": [
    "### RandomForestClassifier"
   ]
  },
  {
   "cell_type": "code",
   "execution_count": 32,
   "id": "5a7332f4",
   "metadata": {
    "execution": {
     "iopub.execute_input": "2022-01-29T16:50:48.207313Z",
     "iopub.status.busy": "2022-01-29T16:50:48.206518Z",
     "iopub.status.idle": "2022-01-29T16:50:48.426287Z",
     "shell.execute_reply": "2022-01-29T16:50:48.426783Z",
     "shell.execute_reply.started": "2022-01-29T16:31:08.739015Z"
    },
    "papermill": {
     "duration": 0.276883,
     "end_time": "2022-01-29T16:50:48.427002",
     "exception": false,
     "start_time": "2022-01-29T16:50:48.150119",
     "status": "completed"
    },
    "tags": []
   },
   "outputs": [
    {
     "data": {
      "text/plain": [
       "0.8340807174887892"
      ]
     },
     "execution_count": 32,
     "metadata": {},
     "output_type": "execute_result"
    }
   ],
   "source": [
    "\n",
    "model = RandomForestClassifier(n_estimators=100, bootstrap=True, criterion='entropy',\n",
    "                               min_samples_leaf=5, min_samples_split=4, random_state=42)\n",
    "\n",
    "model.fit(X_train[final],y_train)\n",
    "\n",
    "model.score(X_test[final],y_test)"
   ]
  },
  {
   "cell_type": "code",
   "execution_count": 33,
   "id": "d2956503",
   "metadata": {
    "execution": {
     "iopub.execute_input": "2022-01-29T16:50:48.529470Z",
     "iopub.status.busy": "2022-01-29T16:50:48.528682Z",
     "iopub.status.idle": "2022-01-29T16:50:49.170366Z",
     "shell.execute_reply": "2022-01-29T16:50:49.169645Z",
     "shell.execute_reply.started": "2022-01-29T16:31:08.971363Z"
    },
    "papermill": {
     "duration": 0.696239,
     "end_time": "2022-01-29T16:50:49.170553",
     "exception": false,
     "start_time": "2022-01-29T16:50:48.474314",
     "status": "completed"
    },
    "tags": []
   },
   "outputs": [
    {
     "data": {
      "text/plain": [
       "array([0.83501684, 0.84511785, 0.84511785])"
      ]
     },
     "execution_count": 33,
     "metadata": {},
     "output_type": "execute_result"
    }
   ],
   "source": [
    "# Checking cross val score for this model\n",
    "cross_val_score(model, X[final],y,cv=3)"
   ]
  },
  {
   "cell_type": "code",
   "execution_count": 34,
   "id": "7a1a52b8",
   "metadata": {
    "execution": {
     "iopub.execute_input": "2022-01-29T16:50:49.275318Z",
     "iopub.status.busy": "2022-01-29T16:50:49.274535Z",
     "iopub.status.idle": "2022-01-29T16:50:49.531746Z",
     "shell.execute_reply": "2022-01-29T16:50:49.532322Z",
     "shell.execute_reply.started": "2022-01-29T16:31:09.636836Z"
    },
    "papermill": {
     "duration": 0.314164,
     "end_time": "2022-01-29T16:50:49.532527",
     "exception": false,
     "start_time": "2022-01-29T16:50:49.218363",
     "status": "completed"
    },
    "tags": []
   },
   "outputs": [
    {
     "data": {
      "text/plain": [
       "<AxesSubplot:>"
      ]
     },
     "execution_count": 34,
     "metadata": {},
     "output_type": "execute_result"
    },
    {
     "data": {
      "image/png": "[encoded data removed]",
      "text/plain": [
       "<Figure size 432x288 with 2 Axes>"
      ]
     },
     "metadata": {
      "needs_background": "light"
     },
     "output_type": "display_data"
    }
   ],
   "source": [
    "# Plotting the confusion matrix for this model\n",
    "predict = model.predict(X_test[final])\n",
    "cf = confusion_matrix(y_test,predict)\n",
    "sns.heatmap(cf, cmap='Reds',annot=True)\n"
   ]
  },
  {
   "cell_type": "code",
   "execution_count": 35,
   "id": "6c5f8e23",
   "metadata": {
    "execution": {
     "iopub.execute_input": "2022-01-29T16:50:49.635584Z",
     "iopub.status.busy": "2022-01-29T16:50:49.634904Z",
     "iopub.status.idle": "2022-01-29T16:50:49.645058Z",
     "shell.execute_reply": "2022-01-29T16:50:49.645551Z",
     "shell.execute_reply.started": "2022-01-29T16:31:09.902451Z"
    },
    "papermill": {
     "duration": 0.064431,
     "end_time": "2022-01-29T16:50:49.645784",
     "exception": false,
     "start_time": "2022-01-29T16:50:49.581353",
     "status": "completed"
    },
    "tags": []
   },
   "outputs": [
    {
     "name": "stdout",
     "output_type": "stream",
     "text": [
      "              precision    recall  f1-score   support\n",
      "\n",
      "         0.0       0.82      0.94      0.88       140\n",
      "         1.0       0.86      0.66      0.75        83\n",
      "\n",
      "    accuracy                           0.83       223\n",
      "   macro avg       0.84      0.80      0.81       223\n",
      "weighted avg       0.84      0.83      0.83       223\n",
      "\n"
     ]
    }
   ],
   "source": [
    "# Classification report for Logistic Regression\n",
    "from sklearn import metrics\n",
    "print(metrics.classification_report(y_test,predict))"
   ]
  },
  {
   "cell_type": "markdown",
   "id": "ca6e1370",
   "metadata": {
    "papermill": {
     "duration": 0.048883,
     "end_time": "2022-01-29T16:50:49.743900",
     "exception": false,
     "start_time": "2022-01-29T16:50:49.695017",
     "status": "completed"
    },
    "tags": []
   },
   "source": []
  },
  {
   "cell_type": "markdown",
   "id": "53c99554",
   "metadata": {
    "papermill": {
     "duration": 0.048734,
     "end_time": "2022-01-29T16:50:49.841330",
     "exception": false,
     "start_time": "2022-01-29T16:50:49.792596",
     "status": "completed"
    },
    "tags": []
   },
   "source": [
    "## Decision Tree Classifier"
   ]
  },
  {
   "cell_type": "code",
   "execution_count": 36,
   "id": "736c293a",
   "metadata": {
    "execution": {
     "iopub.execute_input": "2022-01-29T16:50:49.951529Z",
     "iopub.status.busy": "2022-01-29T16:50:49.950469Z",
     "iopub.status.idle": "2022-01-29T16:50:49.958044Z",
     "shell.execute_reply": "2022-01-29T16:50:49.957454Z",
     "shell.execute_reply.started": "2022-01-29T16:31:09.915274Z"
    },
    "papermill": {
     "duration": 0.068067,
     "end_time": "2022-01-29T16:50:49.958195",
     "exception": false,
     "start_time": "2022-01-29T16:50:49.890128",
     "status": "completed"
    },
    "tags": []
   },
   "outputs": [
    {
     "data": {
      "text/plain": [
       "DecisionTreeClassifier()"
      ]
     },
     "execution_count": 36,
     "metadata": {},
     "output_type": "execute_result"
    }
   ],
   "source": [
    "from sklearn.tree import DecisionTreeClassifier\n",
    "model = DecisionTreeClassifier()\n",
    "model.fit(X_train[final],y_train)"
   ]
  },
  {
   "cell_type": "code",
   "execution_count": 37,
   "id": "a3906dc4",
   "metadata": {
    "execution": {
     "iopub.execute_input": "2022-01-29T16:50:50.062801Z",
     "iopub.status.busy": "2022-01-29T16:50:50.061673Z",
     "iopub.status.idle": "2022-01-29T16:50:50.069169Z",
     "shell.execute_reply": "2022-01-29T16:50:50.069644Z",
     "shell.execute_reply.started": "2022-01-29T16:31:09.940857Z"
    },
    "papermill": {
     "duration": 0.062646,
     "end_time": "2022-01-29T16:50:50.069842",
     "exception": false,
     "start_time": "2022-01-29T16:50:50.007196",
     "status": "completed"
    },
    "tags": []
   },
   "outputs": [
    {
     "name": "stdout",
     "output_type": "stream",
     "text": [
      "Accuracy score for Decision Tree Classifier is 83.40807174887892\n"
     ]
    }
   ],
   "source": [
    "print(f\"Accuracy score for Decision Tree Classifier is {model.score(X_test[final],y_test)*100}\")"
   ]
  },
  {
   "cell_type": "code",
   "execution_count": 38,
   "id": "8660e565",
   "metadata": {
    "execution": {
     "iopub.execute_input": "2022-01-29T16:50:50.178940Z",
     "iopub.status.busy": "2022-01-29T16:50:50.177816Z",
     "iopub.status.idle": "2022-01-29T16:50:50.201270Z",
     "shell.execute_reply": "2022-01-29T16:50:50.201755Z",
     "shell.execute_reply.started": "2022-01-29T16:31:09.961505Z"
    },
    "papermill": {
     "duration": 0.080076,
     "end_time": "2022-01-29T16:50:50.201954",
     "exception": false,
     "start_time": "2022-01-29T16:50:50.121878",
     "status": "completed"
    },
    "tags": []
   },
   "outputs": [
    {
     "data": {
      "text/plain": [
       "array([0.7979798 , 0.82491582, 0.83838384])"
      ]
     },
     "execution_count": 38,
     "metadata": {},
     "output_type": "execute_result"
    }
   ],
   "source": [
    "# Checking cross val score for this model\n",
    "cross_val_score(model, X[final],y,cv=3)"
   ]
  },
  {
   "cell_type": "code",
   "execution_count": 39,
   "id": "6537867e",
   "metadata": {
    "execution": {
     "iopub.execute_input": "2022-01-29T16:50:50.307511Z",
     "iopub.status.busy": "2022-01-29T16:50:50.306404Z",
     "iopub.status.idle": "2022-01-29T16:50:50.556567Z",
     "shell.execute_reply": "2022-01-29T16:50:50.555947Z",
     "shell.execute_reply.started": "2022-01-29T16:31:09.996910Z"
    },
    "papermill": {
     "duration": 0.304272,
     "end_time": "2022-01-29T16:50:50.556759",
     "exception": false,
     "start_time": "2022-01-29T16:50:50.252487",
     "status": "completed"
    },
    "tags": []
   },
   "outputs": [
    {
     "data": {
      "text/plain": [
       "<AxesSubplot:>"
      ]
     },
     "execution_count": 39,
     "metadata": {},
     "output_type": "execute_result"
    },
    {
     "data": {
      "image/png": "[encoded data removed]",
      "text/plain": [
       "<Figure size 432x288 with 2 Axes>"
      ]
     },
     "metadata": {
      "needs_background": "light"
     },
     "output_type": "display_data"
    }
   ],
   "source": [
    "# Plotting the confusion matrix for this model\n",
    "predict = model.predict(X_test[final])\n",
    "cf = confusion_matrix(y_test,predict)\n",
    "sns.heatmap(cf, cmap='Reds',annot=True)"
   ]
  },
  {
   "cell_type": "code",
   "execution_count": 40,
   "id": "cb434fa4",
   "metadata": {
    "execution": {
     "iopub.execute_input": "2022-01-29T16:50:50.665850Z",
     "iopub.status.busy": "2022-01-29T16:50:50.665025Z",
     "iopub.status.idle": "2022-01-29T16:50:50.673446Z",
     "shell.execute_reply": "2022-01-29T16:50:50.674060Z",
     "shell.execute_reply.started": "2022-01-29T16:31:10.256166Z"
    },
    "papermill": {
     "duration": 0.066246,
     "end_time": "2022-01-29T16:50:50.674279",
     "exception": false,
     "start_time": "2022-01-29T16:50:50.608033",
     "status": "completed"
    },
    "tags": []
   },
   "outputs": [
    {
     "name": "stdout",
     "output_type": "stream",
     "text": [
      "              precision    recall  f1-score   support\n",
      "\n",
      "         0.0       0.81      0.96      0.88       140\n",
      "         1.0       0.90      0.63      0.74        83\n",
      "\n",
      "    accuracy                           0.83       223\n",
      "   macro avg       0.85      0.79      0.81       223\n",
      "weighted avg       0.84      0.83      0.83       223\n",
      "\n"
     ]
    }
   ],
   "source": [
    "# Classification report for Decision Tree Classifier\n",
    "from sklearn import metrics\n",
    "print(metrics.classification_report(y_test,predict))"
   ]
  },
  {
   "cell_type": "markdown",
   "id": "f8844285",
   "metadata": {
    "papermill": {
     "duration": 0.051057,
     "end_time": "2022-01-29T16:50:50.776373",
     "exception": false,
     "start_time": "2022-01-29T16:50:50.725316",
     "status": "completed"
    },
    "tags": []
   },
   "source": [
    "## UPVOTE if you liked the work"
   ]
  }
 ],
 "metadata": {
  "kernelspec": {
   "display_name": "Python 3",
   "language": "python",
   "name": "python3"
  },
  "language_info": {
   "codemirror_mode": {
    "name": "ipython",
    "version": 3
   },
   "file_extension": ".py",
   "mimetype": "text/x-python",
   "name": "python",
   "nbconvert_exporter": "python",
   "pygments_lexer": "ipython3",
   "version": "3.7.12"
  },
  "papermill": {
   "default_parameters": {},
   "duration": 24.053655,
   "end_time": "2022-01-29T16:50:51.941884",
   "environment_variables": {},
   "exception": null,
   "input_path": "__notebook__.ipynb",
   "output_path": "__notebook__.ipynb",
   "parameters": {},
   "start_time": "2022-01-29T16:50:27.888229",
   "version": "2.3.3"
  }
 },
 "nbformat": 4,
 "nbformat_minor": 5
}
